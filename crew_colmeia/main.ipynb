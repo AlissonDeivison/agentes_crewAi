{
 "cells": [
  {
   "cell_type": "code",
   "execution_count": null,
   "metadata": {},
   "outputs": [],
   "source": [
    "import yaml\n",
    "import datetime\n",
    "import locale\n",
    "from dotenv import load_dotenv\n",
    "from crewai import Agent , Task , Crew , Process\n",
    "from crewai_tools import WebsiteSearchTool , SerperDevTool\n",
    "\n",
    "\n",
    "locale.setlocale (locale.LC_TIME, 'pt_BR.utf8')\n",
    "load_dotenv ()\n",
    "search_tool = SerperDevTool()\n",
    "gpt_mini = 'gpt-4o-mini'\n",
    "\n",
    "# Tamanho do enxame\n",
    "enxame = 5"
   ]
  },
  {
   "cell_type": "code",
   "execution_count": null,
   "metadata": {},
   "outputs": [],
   "source": [
    "pesquisador_web_config = {\n",
    "    \"role\": \"Pesquisador Web\",\n",
    "    \"backstory\": \"\"\"Você é um especialista em encontrar fontes online confiáveis para vários tópicos. Sua missão é fornecer uma lista de sites que os usuários podem explorar para obter mais informações sobre seus interesses específicos.\"\"\",\n",
    "    \"goal\": \"Encontrar sites relevantes para o tema {topic}, produzir uma saída YAML com o seguinte template {template}\",\n",
    "    \"tools\": [search_tool],\n",
    "    \"verbose\": True,\n",
    "    \"llm\": gpt_mini\n",
    "}\n",
    "\n",
    "pesquisador = Agent(config=pesquisador_web_config)"
   ]
  },
  {
   "cell_type": "code",
   "execution_count": null,
   "metadata": {},
   "outputs": [],
   "source": [
    "encontrar_sites_config = {\n",
    "    \"description\": \"\"\"Realize uma pesquisa na web para identificar e compilar uma lista de sites relevantes para o tema fornecido. Certifique-se de que os sites são confiáveis e fornecem insights valiosos sobre o tópico. A saída final deve ser formatada como YAML. Produza uma saída yaml no seguinte template {template}\"\"\",\n",
    "    \"expected_output\": \"\"\"Uma YAML de 5 a 10 sites relacionados ao tema {topic}. Muito importante, retire coisas como '''yaml''' e ''' da saída\"\"\",\n",
    "    \"agent\": pesquisador,\n",
    "}\n",
    "\n",
    "encontrar_sites = Task(config=encontrar_sites_config)"
   ]
  },
  {
   "cell_type": "code",
   "execution_count": null,
   "metadata": {},
   "outputs": [],
   "source": [
    "crew_inicial = Crew(\n",
    "    agents = [pesquisador],\n",
    "    tasks = [encontrar_sites],\n",
    "    processes = Process.sequential\n",
    ")"
   ]
  },
  {
   "cell_type": "code",
   "execution_count": null,
   "metadata": {},
   "outputs": [],
   "source": [
    "data_atual = datetime.datetime.now()\n",
    "data_hoje = data_atual.strftime('%A, %d de %B de %Y')\n",
    "template = \"\"\"\n",
    "<template>\n",
    "site:\n",
    "    - link: \"url da notícia\"\n",
    "</template>\n",
    "\"\"\""
   ]
  },
  {
   "cell_type": "code",
   "execution_count": null,
   "metadata": {},
   "outputs": [],
   "source": [
    "topic = \" Preço de ó culos de sol masculinos em sites do Brasil  atualizado para \" + data_hoje\n",
    "input = {'topic': topic,\n",
    "         'template': template,\n",
    "         'sites': enxame}"
   ]
  },
  {
   "cell_type": "code",
   "execution_count": null,
   "metadata": {},
   "outputs": [],
   "source": [
    "output = crew_inicial.kickoff( inputs = input )\n",
    "yaml_string = output.raw.strip().strip(\"```yaml\").strip(\"```\")\n",
    "data_dict = yaml.safe_load( yaml_string )\n",
    "sites_list = data_dict.get('site', [])"
   ]
  },
  {
   "cell_type": "code",
   "execution_count": null,
   "metadata": {},
   "outputs": [],
   "source": [
    "# ------------------------------\n",
    "# Segunda Crew : O enxame de agentes\n",
    "# ------------------------------\n",
    "agentes = []\n",
    "tarefas = []\n",
    "\n",
    "for index, site in enumerate(sites_list):\n",
    "    try:\n",
    "        busca = WebsiteSearchTool(website=site['link'])\n",
    "        \n",
    "        agente = Agent(\n",
    "            role=f\"Pesquisador Web {index}\",\n",
    "            goal=f\"Buscar informações sobe {topic} no '{site['link']}'\",\n",
    "            backstory=f\"\"\"Especializado em recuperar informações detalhadas de sites específicos, você se concentrará em explorar o conteúdo disponível no {site['link']} relacionado a {topic}.\"\"\",\n",
    "            tools=[busca],\n",
    "            verbose=True,\n",
    "            memory=True,\n",
    "            allow_delegation=False,\n",
    "            llm=gpt_mini\n",
    "        )\n",
    "        tarefa = Task (\n",
    "            description=f\"\"\"Use o site especificado {site['link']} para encontrar informações detalhadas sobre {topic}. É muito importante que o link de onde foi encontrado a informação esteja junto da inofrmação.\"\"\",\n",
    "            expected_output=f\"\"\"Retornar informações sobre {topic} a partir do site {site}.\"\"\",\n",
    "            agent=agente,\n",
    "            output_file=f\"./partial/{index}.md\"\n",
    "        )\n",
    "        agentes.append(agente)\n",
    "        tarefas.append(tarefa)\n",
    "    except Exception as e:\n",
    "        print(f\"Erro ao criar agente {index}: {e}\")"
   ]
  },
  {
   "cell_type": "code",
   "execution_count": null,
   "metadata": {},
   "outputs": [],
   "source": [
    "agente_agregador_config = {\n",
    "    \"role\":\"Agregador\",\n",
    "    \"goal\":\"Consolidar informações de todos os agentes em um documento Markdown\",\n",
    "    \"backstory\":f\"\"\"Você é um especialista em sintetizar informações de várias fontes em um formato coeso. Sua tarefa é compilar os insights coletados e apresent-a-los em um documento Markdown.\"\"\",\n",
    "    \"verbose\":True\n",
    "}\n",
    "\n",
    "agente_agregador = Agent(config=agente_agregador_config)\n",
    "\n",
    "tarefa_agregador_config = {\n",
    "    \"description\":f\"\"\"Consolide os resultados dos agentes dinâmicos em um documento Markdown. Certifique-se de incluir todas as informações relevantes coletadas.\"\"\",\n",
    "    \"expected_output\":f\"\"\"Um documento Markdown que resumo as informações coletadas de todos os sites.\"\"\",\n",
    "    \"agent\":agente_agregador,\n",
    "    \"output_file\":\"resultado.md\"\n",
    "}\n",
    "\n",
    "tarefa_agregador = Task(config=tarefa_agregador_config)\n",
    "\n",
    "agentes.append(agente_agregador)\n",
    "tarefas.append(tarefa_agregador)"
   ]
  },
  {
   "cell_type": "code",
   "execution_count": null,
   "metadata": {},
   "outputs": [],
   "source": [
    "crew_assincrona = Crew (\n",
    "    agents=agentes,\n",
    "    tasks=tarefas,\n",
    "    processes=Process.sequential\n",
    ")\n",
    "\n",
    "result = crew_assincrona.kickoff(inputs={})"
   ]
  }
 ],
 "metadata": {
  "kernelspec": {
   "display_name": "Python 3",
   "language": "python",
   "name": "python3"
  },
  "language_info": {
   "codemirror_mode": {
    "name": "ipython",
    "version": 3
   },
   "file_extension": ".py",
   "mimetype": "text/x-python",
   "name": "python",
   "nbconvert_exporter": "python",
   "pygments_lexer": "ipython3",
   "version": "3.12.4"
  }
 },
 "nbformat": 4,
 "nbformat_minor": 2
}
